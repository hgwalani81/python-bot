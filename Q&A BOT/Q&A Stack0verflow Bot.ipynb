{
 "cells": [
  {
   "cell_type": "markdown",
   "metadata": {},
   "source": [
    "# 1. Intent and language recognition"
   ]
  },
  {
   "cell_type": "code",
   "execution_count": 1,
   "metadata": {},
   "outputs": [
    {
     "name": "stderr",
     "output_type": "stream",
     "text": [
      "[nltk_data] Downloading package stopwords to\n",
      "[nltk_data]     /home/himanshug99/nltk_data...\n",
      "[nltk_data]   Package stopwords is already up-to-date!\n"
     ]
    }
   ],
   "source": [
    "from utils import *\n",
    "from dialogue_manager import *"
   ]
  },
  {
   "cell_type": "code",
   "execution_count": 2,
   "metadata": {},
   "outputs": [],
   "source": [
    "import numpy as np\n",
    "import pandas as pd\n",
    "import pickle\n",
    "import re\n",
    "\n",
    "from sklearn.feature_extraction.text import TfidfVectorizer"
   ]
  },
  {
   "cell_type": "code",
   "execution_count": 3,
   "metadata": {},
   "outputs": [],
   "source": [
    "def tfidf_features(X_train, X_test, vectorizer_path):\n",
    "    \"\"\"Performs TF-IDF transformation and dumps the model.\"\"\"\n",
    "    \n",
    "    tfidf_vectorizer = TfidfVectorizer(token_pattern='(\\S+)', min_df=5, max_df=0.9, ngram_range=(1,2))\n",
    "    tfidf_vectorizer.fit(X_train)\n",
    "    \n",
    "    X_train = tfidf_vectorizer.transform(X_train)\n",
    "    X_test = tfidf_vectorizer.transform(X_test)\n",
    "    \n",
    "    # wb: writing bytes mode\n",
    "    with open(vectorizer_path,'wb') as f:\n",
    "      pickle.dump(tfidf_vectorizer,f)\n",
    "    \n",
    "    return X_train, X_test"
   ]
  },
  {
   "cell_type": "code",
   "execution_count": 4,
   "metadata": {},
   "outputs": [],
   "source": [
    "sample_size = 200000\n",
    "\n",
    "dialogue_df = pd.read_csv('data/dialogues.tsv', sep='\\t').sample(sample_size, random_state=0)\n",
    "stackoverflow_df = pd.read_csv('data/tagged_posts.tsv', sep='\\t').sample(sample_size, random_state=0)"
   ]
  },
  {
   "cell_type": "code",
   "execution_count": 5,
   "metadata": {},
   "outputs": [
    {
     "data": {
      "text/html": [
       "<div>\n",
       "<style scoped>\n",
       "    .dataframe tbody tr th:only-of-type {\n",
       "        vertical-align: middle;\n",
       "    }\n",
       "\n",
       "    .dataframe tbody tr th {\n",
       "        vertical-align: top;\n",
       "    }\n",
       "\n",
       "    .dataframe thead th {\n",
       "        text-align: right;\n",
       "    }\n",
       "</style>\n",
       "<table border=\"1\" class=\"dataframe\">\n",
       "  <thead>\n",
       "    <tr style=\"text-align: right;\">\n",
       "      <th></th>\n",
       "      <th>text</th>\n",
       "      <th>tag</th>\n",
       "    </tr>\n",
       "  </thead>\n",
       "  <tbody>\n",
       "    <tr>\n",
       "      <th>82925</th>\n",
       "      <td>Donna, you are a muffin.</td>\n",
       "      <td>dialogue</td>\n",
       "    </tr>\n",
       "    <tr>\n",
       "      <th>48774</th>\n",
       "      <td>He was here last night till about two o'clock....</td>\n",
       "      <td>dialogue</td>\n",
       "    </tr>\n",
       "    <tr>\n",
       "      <th>55394</th>\n",
       "      <td>All right, then make an appointment with her s...</td>\n",
       "      <td>dialogue</td>\n",
       "    </tr>\n",
       "    <tr>\n",
       "      <th>90806</th>\n",
       "      <td>Hey, what is this-an interview? We're supposed...</td>\n",
       "      <td>dialogue</td>\n",
       "    </tr>\n",
       "    <tr>\n",
       "      <th>107758</th>\n",
       "      <td>Yeah. He's just a friend of mine I was trying ...</td>\n",
       "      <td>dialogue</td>\n",
       "    </tr>\n",
       "  </tbody>\n",
       "</table>\n",
       "</div>"
      ],
      "text/plain": [
       "                                                     text       tag\n",
       "82925                            Donna, you are a muffin.  dialogue\n",
       "48774   He was here last night till about two o'clock....  dialogue\n",
       "55394   All right, then make an appointment with her s...  dialogue\n",
       "90806   Hey, what is this-an interview? We're supposed...  dialogue\n",
       "107758  Yeah. He's just a friend of mine I was trying ...  dialogue"
      ]
     },
     "execution_count": 5,
     "metadata": {},
     "output_type": "execute_result"
    }
   ],
   "source": [
    "dialogue_df.head()"
   ]
  },
  {
   "cell_type": "code",
   "execution_count": 6,
   "metadata": {},
   "outputs": [
    {
     "data": {
      "text/html": [
       "<div>\n",
       "<style scoped>\n",
       "    .dataframe tbody tr th:only-of-type {\n",
       "        vertical-align: middle;\n",
       "    }\n",
       "\n",
       "    .dataframe tbody tr th {\n",
       "        vertical-align: top;\n",
       "    }\n",
       "\n",
       "    .dataframe thead th {\n",
       "        text-align: right;\n",
       "    }\n",
       "</style>\n",
       "<table border=\"1\" class=\"dataframe\">\n",
       "  <thead>\n",
       "    <tr style=\"text-align: right;\">\n",
       "      <th></th>\n",
       "      <th>post_id</th>\n",
       "      <th>title</th>\n",
       "      <th>tag</th>\n",
       "    </tr>\n",
       "  </thead>\n",
       "  <tbody>\n",
       "    <tr>\n",
       "      <th>2168983</th>\n",
       "      <td>43837842</td>\n",
       "      <td>Efficient Algorithm to compose valid expressio...</td>\n",
       "      <td>python</td>\n",
       "    </tr>\n",
       "    <tr>\n",
       "      <th>1084095</th>\n",
       "      <td>15747223</td>\n",
       "      <td>Why does this basic thread program fail with C...</td>\n",
       "      <td>c_cpp</td>\n",
       "    </tr>\n",
       "    <tr>\n",
       "      <th>1049020</th>\n",
       "      <td>15189594</td>\n",
       "      <td>Link to scroll to top not working</td>\n",
       "      <td>javascript</td>\n",
       "    </tr>\n",
       "    <tr>\n",
       "      <th>200466</th>\n",
       "      <td>3273927</td>\n",
       "      <td>Is it possible to implement ping on windows ph...</td>\n",
       "      <td>c#</td>\n",
       "    </tr>\n",
       "    <tr>\n",
       "      <th>1200249</th>\n",
       "      <td>17684551</td>\n",
       "      <td>GLSL normal mapping issue</td>\n",
       "      <td>c_cpp</td>\n",
       "    </tr>\n",
       "  </tbody>\n",
       "</table>\n",
       "</div>"
      ],
      "text/plain": [
       "          post_id                                              title  \\\n",
       "2168983  43837842  Efficient Algorithm to compose valid expressio...   \n",
       "1084095  15747223  Why does this basic thread program fail with C...   \n",
       "1049020  15189594                  Link to scroll to top not working   \n",
       "200466    3273927  Is it possible to implement ping on windows ph...   \n",
       "1200249  17684551                          GLSL normal mapping issue   \n",
       "\n",
       "                tag  \n",
       "2168983      python  \n",
       "1084095       c_cpp  \n",
       "1049020  javascript  \n",
       "200466           c#  \n",
       "1200249       c_cpp  "
      ]
     },
     "execution_count": 6,
     "metadata": {},
     "output_type": "execute_result"
    }
   ],
   "source": [
    "stackoverflow_df.head()"
   ]
  },
  {
   "cell_type": "code",
   "execution_count": 7,
   "metadata": {},
   "outputs": [],
   "source": [
    "dialogue_df['text'] = dialogue_df['text'].apply(text_prepare)\n",
    "stackoverflow_df['title'] = stackoverflow_df['title'].apply(text_prepare)"
   ]
  },
  {
   "cell_type": "code",
   "execution_count": 8,
   "metadata": {},
   "outputs": [],
   "source": [
    "from sklearn.model_selection import train_test_split"
   ]
  },
  {
   "cell_type": "code",
   "execution_count": 9,
   "metadata": {},
   "outputs": [
    {
     "name": "stdout",
     "output_type": "stream",
     "text": [
      "Train size = 360000, test size = 40000\n"
     ]
    }
   ],
   "source": [
    "X = np.concatenate([dialogue_df['text'].values, stackoverflow_df['title'].values])\n",
    "y = ['dialogue'] * dialogue_df.shape[0] + ['stackoverflow'] * stackoverflow_df.shape[0]\n",
    "\n",
    "X_train, X_test, y_train, y_test = train_test_split(X, y, train_size=0.9, random_state=0)\n",
    "print('Train size = {}, test size = {}'.format(len(X_train), len(X_test)))\n",
    "\n",
    "X_train_tfidf, X_test_tfidf = tfidf_features(X_train, X_test, RESOURCE_PATH['TFIDF_VECTORIZER'])"
   ]
  },
  {
   "cell_type": "code",
   "execution_count": 10,
   "metadata": {},
   "outputs": [],
   "source": [
    "from sklearn.linear_model import LogisticRegression\n",
    "from sklearn.metrics import accuracy_score\n",
    "from sklearn.multiclass import OneVsRestClassifier\n",
    "from sklearn.svm import SVC"
   ]
  },
  {
   "cell_type": "code",
   "execution_count": 11,
   "metadata": {},
   "outputs": [
    {
     "data": {
      "text/plain": [
       "LogisticRegression(C=10, class_weight=None, dual=False, fit_intercept=True,\n",
       "                   intercept_scaling=1, l1_ratio=None, max_iter=1000,\n",
       "                   multi_class='auto', n_jobs=None, penalty='l2',\n",
       "                   random_state=0, solver='lbfgs', tol=0.0001, verbose=0,\n",
       "                   warm_start=False)"
      ]
     },
     "execution_count": 11,
     "metadata": {},
     "output_type": "execute_result"
    }
   ],
   "source": [
    "intent_recognizer=LogisticRegression(penalty='l2',C=10,random_state=0, max_iter=1000)\n",
    "intent_recognizer.fit(X_train_tfidf,y_train)"
   ]
  },
  {
   "cell_type": "code",
   "execution_count": 12,
   "metadata": {},
   "outputs": [
    {
     "name": "stdout",
     "output_type": "stream",
     "text": [
      "Test accuracy = 0.991575\n"
     ]
    }
   ],
   "source": [
    "y_test_pred = intent_recognizer.predict(X_test_tfidf)\n",
    "test_accuracy = accuracy_score(y_test, y_test_pred)\n",
    "print('Test accuracy = {}'.format(test_accuracy))"
   ]
  },
  {
   "cell_type": "code",
   "execution_count": 13,
   "metadata": {},
   "outputs": [],
   "source": [
    "pickle.dump(intent_recognizer, open(RESOURCE_PATH['INTENT_RECOGNIZER'], 'wb'))"
   ]
  },
  {
   "cell_type": "markdown",
   "metadata": {},
   "source": [
    "### Programming language classification "
   ]
  },
  {
   "cell_type": "code",
   "execution_count": 14,
   "metadata": {},
   "outputs": [],
   "source": [
    "X = stackoverflow_df['title'].values\n",
    "y = stackoverflow_df['tag'].values"
   ]
  },
  {
   "cell_type": "code",
   "execution_count": 15,
   "metadata": {},
   "outputs": [
    {
     "name": "stdout",
     "output_type": "stream",
     "text": [
      "Train size = 160000, test size = 40000\n"
     ]
    }
   ],
   "source": [
    "X_train, X_test, y_train, y_test = train_test_split(X, y, test_size=0.2, random_state=0)\n",
    "print('Train size = {}, test size = {}'.format(len(X_train), len(X_test)))"
   ]
  },
  {
   "cell_type": "code",
   "execution_count": 16,
   "metadata": {},
   "outputs": [],
   "source": [
    "vectorizer = pickle.load(open(RESOURCE_PATH['TFIDF_VECTORIZER'], 'rb'))\n",
    "\n",
    "X_train_tfidf, X_test_tfidf = vectorizer.transform(X_train), vectorizer.transform(X_test)"
   ]
  },
  {
   "cell_type": "code",
   "execution_count": 17,
   "metadata": {},
   "outputs": [],
   "source": [
    "from sklearn.multiclass import OneVsRestClassifier"
   ]
  },
  {
   "cell_type": "code",
   "execution_count": 18,
   "metadata": {},
   "outputs": [
    {
     "data": {
      "text/plain": [
       "OneVsRestClassifier(estimator=LogisticRegression(C=5, class_weight=None,\n",
       "                                                 dual=False, fit_intercept=True,\n",
       "                                                 intercept_scaling=1,\n",
       "                                                 l1_ratio=None, max_iter=10000,\n",
       "                                                 multi_class='auto',\n",
       "                                                 n_jobs=None, penalty='l2',\n",
       "                                                 random_state=0, solver='lbfgs',\n",
       "                                                 tol=0.0001, verbose=0,\n",
       "                                                 warm_start=False),\n",
       "                    n_jobs=None)"
      ]
     },
     "execution_count": 18,
     "metadata": {},
     "output_type": "execute_result"
    }
   ],
   "source": [
    "tag_classifier=OneVsRestClassifier(LogisticRegression(C=5,penalty='l2',random_state=0, max_iter=10000))\n",
    "tag_classifier.fit(X_train_tfidf,y_train)"
   ]
  },
  {
   "cell_type": "code",
   "execution_count": 19,
   "metadata": {},
   "outputs": [
    {
     "name": "stdout",
     "output_type": "stream",
     "text": [
      "Test accuracy = 0.8007\n"
     ]
    }
   ],
   "source": [
    "# Check test accuracy.\n",
    "y_test_pred = tag_classifier.predict(X_test_tfidf)\n",
    "test_accuracy = accuracy_score(y_test, y_test_pred)\n",
    "print('Test accuracy = {}'.format(test_accuracy))"
   ]
  },
  {
   "cell_type": "code",
   "execution_count": 20,
   "metadata": {},
   "outputs": [],
   "source": [
    "pickle.dump(tag_classifier, open(RESOURCE_PATH['TAG_CLASSIFIER'], 'wb'))"
   ]
  },
  {
   "cell_type": "markdown",
   "metadata": {},
   "source": [
    "# 2. Ranking  questions with embeddings"
   ]
  },
  {
   "cell_type": "code",
   "execution_count": 21,
   "metadata": {},
   "outputs": [],
   "source": [
    "def prepare_file(in_, out_):\n",
    "    out = open(out_, 'w')\n",
    "    for line in open(in_, encoding='utf8'):\n",
    "        line = line.strip().split('\\t')\n",
    "        new_line = [text_prepare(q) for q in line]\n",
    "        print(*new_line, sep='\\t', file=out)\n",
    "    out.close()"
   ]
  },
  {
   "cell_type": "code",
   "execution_count": 22,
   "metadata": {},
   "outputs": [],
   "source": [
    "prepare_file('./data/train.tsv', 'data/prepared_train.tsv')"
   ]
  },
  {
   "cell_type": "code",
   "execution_count": 23,
   "metadata": {},
   "outputs": [
    {
     "name": "stdout",
     "output_type": "stream",
     "text": [
      "Arguments: \n",
      "lr: 0.05\n",
      "dim: 100\n",
      "epoch: 5\n",
      "maxTrainTime: 8640000\n",
      "validationPatience: 10\n",
      "saveEveryEpoch: 0\n",
      "loss: hinge\n",
      "margin: 0.05\n",
      "similarity: cosine\n",
      "maxNegSamples: 10\n",
      "negSearchLimit: 10\n",
      "batchSize: 5\n",
      "thread: 10\n",
      "minCount: 2\n",
      "minCountLabel: 1\n",
      "label: __label__\n",
      "label: __label__\n",
      "ngrams: 1\n",
      "bucket: 2000000\n",
      "adagrad: 1\n",
      "trainMode: 3\n",
      "fileFormat: labelDoc\n",
      "normalizeText: 0\n",
      "dropoutLHS: 0\n",
      "dropoutRHS: 0\n",
      "useWeight: 0\n",
      "weightSep: :\n",
      "Start to initialize starspace model.\n",
      "Build dict from input file : data/prepared_train.tsv\n",
      "Read 12M words\n",
      "Number of words in dictionary:  95058\n",
      "Number of labels in dictionary: 0\n",
      "Loading data from file : data/prepared_train.tsv\n",
      "Total number of examples loaded : 999740\n",
      "Initialized model weights. Model size :\n",
      "matrix : 95058 100\n",
      "Training epoch 0: 0.05 0.01\n",
      "Epoch: 100.0%  lr: 0.040000  loss: 0.044157  eta: 0h6m  tot: 0h1m31s  (20.0%)  lr: 0.049940  loss: 0.243255  eta: 0h8m  tot: 0h0m1s  (0.2%)2.3%  lr: 0.049840  loss: 0.180741  eta: 0h8m  tot: 0h0m2s  (0.5%)3.7%  lr: 0.049680  loss: 0.152599  eta: 0h8m  tot: 0h0m3s  (0.7%)5.9%  lr: 0.049439  loss: 0.129667  eta: 0h8m  tot: 0h0m6s  (1.2%)6.1%  lr: 0.049409  loss: 0.127003  eta: 0h8m  tot: 0h0m6s  (1.2%)6.2%  lr: 0.049409  loss: 0.126629  eta: 0h8m  tot: 0h0m6s  (1.2%)7.3%  lr: 0.049259  loss: 0.119456  eta: 0h8m  tot: 0h0m7s  (1.5%)9.1%  lr: 0.049079  loss: 0.110110  eta: 0h8m  tot: 0h0m9s  (1.8%)9.4%  lr: 0.049049  loss: 0.109006  eta: 0h8m  tot: 0h0m9s  (1.9%)10.4%  lr: 0.048939  loss: 0.104066  eta: 0h7m  tot: 0h0m10s  (2.1%)10.5%  lr: 0.048919  loss: 0.103276  eta: 0h7m  tot: 0h0m10s  (2.1%)  lr: 0.048909  loss: 0.102731  eta: 0h7m  tot: 0h0m10s  (2.1%)10.9%  lr: 0.048909  loss: 0.102252  eta: 0h7m  tot: 0h0m10s  (2.2%)11.8%  lr: 0.048839  loss: 0.100304  eta: 0h7m  tot: 0h0m11s  (2.4%)12.6%  lr: 0.048759  loss: 0.098121  eta: 0h7m  tot: 0h0m12s  (2.5%)12.9%  lr: 0.048729  loss: 0.097227  eta: 0h7m  tot: 0h0m12s  (2.6%)13.1%  lr: 0.048709  loss: 0.097009  eta: 0h7m  tot: 0h0m12s  (2.6%)13.5%  lr: 0.048669  loss: 0.095600  eta: 0h7m  tot: 0h0m13s  (2.7%)17.7%  lr: 0.048178  loss: 0.084991  eta: 0h7m  tot: 0h0m16s  (3.5%)18.2%  lr: 0.048128  loss: 0.083966  eta: 0h7m  tot: 0h0m17s  (3.6%)18.7%  lr: 0.048078  loss: 0.083291  eta: 0h7m  tot: 0h0m17s  (3.7%)18.9%  lr: 0.048068  loss: 0.083051  eta: 0h7m  tot: 0h0m18s  (3.8%)  lr: 0.048058  loss: 0.082317  eta: 0h7m  tot: 0h0m18s  (3.9%)0.077964  eta: 0h7m  tot: 0h0m21s  (4.4%)22.4%  lr: 0.047778  loss: 0.077805  eta: 0h7m  tot: 0h0m21s  (4.5%)23.2%  lr: 0.047718  loss: 0.076815  eta: 0h7m  tot: 0h0m21s  (4.6%)23.6%  lr: 0.047678  loss: 0.076293  eta: 0h7m  tot: 0h0m22s  (4.7%)h7m  tot: 0h0m23s  (4.9%)24.8%  lr: 0.047578  loss: 0.074982  eta: 0h7m  tot: 0h0m23s  (5.0%)25.5%  lr: 0.047498  loss: 0.074117  eta: 0h7m  tot: 0h0m23s  (5.1%)26.8%  lr: 0.047397  loss: 0.072524  eta: 0h7m  tot: 0h0m25s  (5.4%)27.1%  lr: 0.047387  loss: 0.072261  eta: 0h7m  tot: 0h0m25s  (5.4%)27.4%  lr: 0.047367  loss: 0.071938  eta: 0h7m  tot: 0h0m25s  (5.5%)29.6%  lr: 0.047167  loss: 0.070414  eta: 0h7m  tot: 0h0m27s  (5.9%)29.9%  lr: 0.047147  loss: 0.070202  eta: 0h7m  tot: 0h0m27s  (6.0%)30.9%  lr: 0.047077  loss: 0.069303  eta: 0h7m  tot: 0h0m28s  (6.2%)32.0%  lr: 0.046997  loss: 0.068220  eta: 0h7m  tot: 0h0m29s  (6.4%)33.5%  lr: 0.046937  loss: 0.066689  eta: 0h7m  tot: 0h0m30s  (6.7%)33.7%  lr: 0.046927  loss: 0.066517  eta: 0h7m  tot: 0h0m31s  (6.7%)34.5%  lr: 0.046857  loss: 0.066045  eta: 0h7m  tot: 0h0m31s  (6.9%)35.0%  lr: 0.046777  loss: 0.065708  eta: 0h7m  tot: 0h0m32s  (7.0%)35.5%  lr: 0.046727  loss: 0.065298  eta: 0h7m  tot: 0h0m32s  (7.1%)37.5%  lr: 0.046467  loss: 0.063968  eta: 0h7m  tot: 0h0m34s  (7.5%)37.9%  lr: 0.046426  loss: 0.063779  eta: 0h7m  tot: 0h0m34s  (7.6%)  lr: 0.046416  loss: 0.063660  eta: 0h7m  tot: 0h0m35s  (7.6%)%  lr: 0.046276  loss: 0.063139  eta: 0h7m  tot: 0h0m35s  (7.8%)0.062975  eta: 0h7m  tot: 0h0m36s  (7.8%)39.3%  lr: 0.046216  loss: 0.062842  eta: 0h7m  tot: 0h0m36s  (7.9%)40.6%  lr: 0.046176  loss: 0.062174  eta: 0h7m  tot: 0h0m37s  (8.1%)s  (8.5%)42.9%  lr: 0.045916  loss: 0.060882  eta: 0h6m  tot: 0h0m39s  (8.6%)45.3%  lr: 0.045666  loss: 0.059528  eta: 0h6m  tot: 0h0m41s  (9.1%)45.6%  lr: 0.045646  loss: 0.059463  eta: 0h6m  tot: 0h0m41s  (9.1%)47.4%  lr: 0.045456  loss: 0.058516  eta: 0h6m  tot: 0h0m43s  (9.5%)49.4%  lr: 0.045205  loss: 0.057555  eta: 0h6m  tot: 0h0m45s  (9.9%)50.2%  lr: 0.045105  loss: 0.057122  eta: 0h6m  tot: 0h0m45s  (10.0%)%  lr: 0.045045  loss: 0.056855  eta: 0h6m  tot: 0h0m46s  (10.2%)52.0%  lr: 0.044995  loss: 0.056378  eta: 0h6m  tot: 0h0m47s  (10.4%)53.7%  lr: 0.044785  loss: 0.055720  eta: 0h6m  tot: 0h0m48s  (10.7%)%  lr: 0.044775  loss: 0.055567  eta: 0h6m  tot: 0h0m49s  (10.8%)54.8%  lr: 0.044715  loss: 0.055270  eta: 0h6m  tot: 0h0m50s  (11.0%)55.2%  lr: 0.044675  loss: 0.055186  eta: 0h6m  tot: 0h0m50s  (11.0%)57.5%  lr: 0.044445  loss: 0.054539  eta: 0h6m  tot: 0h0m52s  (11.5%)0m54s  (11.9%)59.8%  lr: 0.044194  loss: 0.053587  eta: 0h6m  tot: 0h0m55s  (12.0%)60.5%  lr: 0.044104  loss: 0.053319  eta: 0h6m  tot: 0h0m55s  (12.1%)60.8%  lr: 0.044074  loss: 0.053233  eta: 0h6m  tot: 0h0m56s  (12.2%)60.9%  lr: 0.044074  loss: 0.053208  eta: 0h6m  tot: 0h0m56s  (12.2%)62.7%  lr: 0.043824  loss: 0.052573  eta: 0h6m  tot: 0h0m57s  (12.5%)63.8%  lr: 0.043724  loss: 0.052230  eta: 0h6m  tot: 0h0m59s  (12.8%)64.4%  lr: 0.043664  loss: 0.052058  eta: 0h6m  tot: 0h0m59s  (12.9%)66.2%  lr: 0.043444  loss: 0.051513  eta: 0h6m  tot: 0h1m1s  (13.2%)68.1%  lr: 0.043213  loss: 0.050895  eta: 0h6m  tot: 0h1m3s  (13.6%)68.9%  lr: 0.043193  loss: 0.050655  eta: 0h6m  tot: 0h1m3s  (13.8%)69.2%  lr: 0.043133  loss: 0.050541  eta: 0h6m  tot: 0h1m4s  (13.8%)  lr: 0.043113  loss: 0.050455  eta: 0h6m  tot: 0h1m4s  (13.9%)69.9%  lr: 0.043073  loss: 0.050383  eta: 0h6m  tot: 0h1m4s  (14.0%)72.3%  lr: 0.042853  loss: 0.049683  eta: 0h6m  tot: 0h1m6s  (14.5%)73.4%  lr: 0.042733  loss: 0.049348  eta: 0h6m  tot: 0h1m7s  (14.7%)73.6%  lr: 0.042723  loss: 0.049309  eta: 0h6m  tot: 0h1m8s  (14.7%)73.8%  lr: 0.042713  loss: 0.049247  eta: 0h6m  tot: 0h1m8s  (14.8%)  lr: 0.042663  loss: 0.049115  eta: 0h6m  tot: 0h1m9s  (14.9%)75.5%  lr: 0.042573  loss: 0.048881  eta: 0h6m  tot: 0h1m9s  (15.1%)77.7%  lr: 0.042362  loss: 0.048367  eta: 0h6m  tot: 0h1m11s  (15.5%)78.1%  lr: 0.042302  loss: 0.048247  eta: 0h6m  tot: 0h1m12s  (15.6%)78.4%  lr: 0.042252  loss: 0.048216  eta: 0h6m  tot: 0h1m12s  (15.7%)79.1%  lr: 0.042182  loss: 0.048002  eta: 0h6m  tot: 0h1m13s  (15.8%)79.4%  lr: 0.042162  loss: 0.047904  eta: 0h6m  tot: 0h1m13s  (15.9%)79.5%  lr: 0.042132  loss: 0.047898  eta: 0h6m  tot: 0h1m13s  (15.9%)82.1%  lr: 0.041872  loss: 0.047389  eta: 0h6m  tot: 0h1m16s  (16.4%)83.6%  lr: 0.041672  loss: 0.047155  eta: 0h6m  tot: 0h1m17s  (16.7%)%  lr: 0.041251  loss: 0.046594  eta: 0h6m  tot: 0h1m20s  (17.3%)87.1%  lr: 0.041151  loss: 0.046502  eta: 0h6m  tot: 0h1m20s  (17.4%)0.046469  eta: 0h6m  tot: 0h1m21s  (17.5%)88.5%  lr: 0.041081  loss: 0.046261  eta: 0h6m  tot: 0h1m22s  (17.7%)89.7%  lr: 0.040931  loss: 0.046031  eta: 0h6m  tot: 0h1m23s  (17.9%)0.045972  eta: 0h6m  tot: 0h1m23s  (18.0%)91.1%  lr: 0.040731  loss: 0.045785  eta: 0h6m  tot: 0h1m24s  (18.2%)91.8%  lr: 0.040641  loss: 0.045645  eta: 0h6m  tot: 0h1m25s  (18.4%)92.0%  lr: 0.040611  loss: 0.045608  eta: 0h6m  tot: 0h1m25s  (18.4%)92.5%  lr: 0.040581  loss: 0.045511  eta: 0h6m  tot: 0h1m25s  (18.5%)93.6%  lr: 0.040461  loss: 0.045327  eta: 0h6m  tot: 0h1m26s  (18.7%)94.3%  lr: 0.040421  loss: 0.045217  eta: 0h6m  tot: 0h1m27s  (18.9%)94.6%  lr: 0.040401  loss: 0.045147  eta: 0h6m  tot: 0h1m27s  (18.9%)%  lr: 0.040250  loss: 0.044866  eta: 0h6m  tot: 0h1m29s  (19.2%)96.2%  lr: 0.040240  loss: 0.044862  eta: 0h6m  tot: 0h1m29s  (19.2%)96.4%  lr: 0.040210  loss: 0.044843  eta: 0h6m  tot: 0h1m29s  (19.3%)97.0%  lr: 0.040150  loss: 0.044708  eta: 0h6m  tot: 0h1m29s  (19.4%)97.7%  lr: 0.040080  loss: 0.044567  eta: 0h6m  tot: 0h1m30s  (19.5%)m30s  (19.6%)\n",
      " ---+++                Epoch    0 Train error : 0.04389006 +++--- ☃\n",
      "Training epoch 1: 0.04 0.01\n",
      "Epoch: 100.0%  lr: 0.030000  loss: 0.013118  eta: 0h4m  tot: 0h2m58s  (40.0%) lr: 0.039850  loss: 0.012564  eta: 0h4m  tot: 0h1m32s  (20.3%)2.0%  lr: 0.039840  loss: 0.012003  eta: 0h4m  tot: 0h1m33s  (20.4%)2.7%  lr: 0.039760  loss: 0.011721  eta: 0h5m  tot: 0h1m33s  (20.5%)3.8%  lr: 0.039640  loss: 0.011765  eta: 0h5m  tot: 0h1m34s  (20.8%)%  lr: 0.039560  loss: 0.011993  eta: 0h5m  tot: 0h1m35s  (20.9%)%  lr: 0.039500  loss: 0.012245  eta: 0h5m  tot: 0h1m36s  (21.1%)%  lr: 0.039109  loss: 0.013728  eta: 0h5m  tot: 0h1m38s  (21.7%)%  lr: 0.039069  loss: 0.013885  eta: 0h5m  tot: 0h1m39s  (21.9%)9.7%  lr: 0.039029  loss: 0.013717  eta: 0h5m  tot: 0h1m39s  (21.9%)%  lr: 0.038909  loss: 0.013781  eta: 0h5m  tot: 0h1m41s  (22.3%)%  lr: 0.038649  loss: 0.014198  eta: 0h5m  tot: 0h1m43s  (22.7%)14.3%  lr: 0.038559  loss: 0.014348  eta: 0h5m  tot: 0h1m44s  (22.9%)0.014209  eta: 0h5m  tot: 0h1m46s  (23.3%)17.0%  lr: 0.038308  loss: 0.014292  eta: 0h5m  tot: 0h1m47s  (23.4%)%  lr: 0.038288  loss: 0.014317  eta: 0h5m  tot: 0h1m47s  (23.4%)17.3%  lr: 0.038268  loss: 0.014344  eta: 0h5m  tot: 0h1m47s  (23.5%)18.9%  lr: 0.038188  loss: 0.014360  eta: 0h5m  tot: 0h1m49s  (23.8%)19.9%  lr: 0.038068  loss: 0.014253  eta: 0h6m  tot: 0h1m50s  (24.0%)20.0%  lr: 0.038058  loss: 0.014231  eta: 0h6m  tot: 0h1m50s  (24.0%)22.9%  lr: 0.037758  loss: 0.014076  eta: 0h6m  tot: 0h1m53s  (24.6%)23.0%  lr: 0.037738  loss: 0.014055  eta: 0h6m  tot: 0h1m53s  (24.6%)23.5%  lr: 0.037708  loss: 0.014002  eta: 0h5m  tot: 0h1m54s  (24.7%)25.7%  lr: 0.037427  loss: 0.013807  eta: 0h5m  tot: 0h1m55s  (25.1%)25.7%  lr: 0.037427  loss: 0.013782  eta: 0h5m  tot: 0h1m55s  (25.1%)26.8%  lr: 0.037317  loss: 0.013776  eta: 0h5m  tot: 0h1m56s  (25.4%)28.4%  lr: 0.037167  loss: 0.013772  eta: 0h5m  tot: 0h1m58s  (25.7%)30.7%  lr: 0.036867  loss: 0.013548  eta: 0h5m  tot: 0h2m0s  (26.1%)31.1%  lr: 0.036827  loss: 0.013534  eta: 0h5m  tot: 0h2m0s  (26.2%)31.9%  lr: 0.036777  loss: 0.013537  eta: 0h5m  tot: 0h2m1s  (26.4%)32.4%  lr: 0.036727  loss: 0.013529  eta: 0h5m  tot: 0h2m1s  (26.5%)33.1%  lr: 0.036657  loss: 0.013467  eta: 0h5m  tot: 0h2m2s  (26.6%)33.3%  lr: 0.036627  loss: 0.013470  eta: 0h5m  tot: 0h2m2s  (26.7%)33.6%  lr: 0.036597  loss: 0.013523  eta: 0h5m  tot: 0h2m2s  (26.7%)33.7%  lr: 0.036597  loss: 0.013509  eta: 0h5m  tot: 0h2m2s  (26.7%)35.7%  lr: 0.036366  loss: 0.013419  eta: 0h5m  tot: 0h2m4s  (27.1%)  lr: 0.036336  loss: 0.013417  eta: 0h5m  tot: 0h2m4s  (27.2%)36.1%  lr: 0.036326  loss: 0.013449  eta: 0h5m  tot: 0h2m4s  (27.2%)36.6%  lr: 0.036266  loss: 0.013461  eta: 0h5m  tot: 0h2m5s  (27.3%)%  lr: 0.036076  loss: 0.013449  eta: 0h5m  tot: 0h2m6s  (27.7%)38.3%  lr: 0.036076  loss: 0.013427  eta: 0h5m  tot: 0h2m6s  (27.7%)38.6%  lr: 0.036046  loss: 0.013418  eta: 0h5m  tot: 0h2m7s  (27.7%)41.8%  lr: 0.035686  loss: 0.013322  eta: 0h5m  tot: 0h2m9s  (28.4%)42.4%  lr: 0.035576  loss: 0.013316  eta: 0h5m  tot: 0h2m10s  (28.5%)42.9%  lr: 0.035506  loss: 0.013304  eta: 0h5m  tot: 0h2m10s  (28.6%)43.2%  lr: 0.035506  loss: 0.013273  eta: 0h5m  tot: 0h2m10s  (28.6%)43.8%  lr: 0.035436  loss: 0.013356  eta: 0h5m  tot: 0h2m11s  (28.8%)44.0%  lr: 0.035425  loss: 0.013361  eta: 0h5m  tot: 0h2m11s  (28.8%)45.4%  lr: 0.035275  loss: 0.013280  eta: 0h5m  tot: 0h2m12s  (29.1%)45.7%  lr: 0.035215  loss: 0.013271  eta: 0h5m  tot: 0h2m13s  (29.1%)47.2%  lr: 0.035115  loss: 0.013331  eta: 0h5m  tot: 0h2m14s  (29.4%)47.6%  lr: 0.035065  loss: 0.013338  eta: 0h5m  tot: 0h2m14s  (29.5%)%  lr: 0.034985  loss: 0.013352  eta: 0h5m  tot: 0h2m15s  (29.7%)49.5%  lr: 0.034875  loss: 0.013350  eta: 0h5m  tot: 0h2m16s  (29.9%)49.6%  lr: 0.034875  loss: 0.013361  eta: 0h5m  tot: 0h2m16s  (29.9%)49.9%  lr: 0.034855  loss: 0.013356  eta: 0h5m  tot: 0h2m16s  (30.0%)0.034825  loss: 0.013318  eta: 0h5m  tot: 0h2m16s  (30.0%)50.5%  lr: 0.034805  loss: 0.013299  eta: 0h5m  tot: 0h2m17s  (30.1%)52.3%  lr: 0.034575  loss: 0.013323  eta: 0h5m  tot: 0h2m18s  (30.5%)  lr: 0.034565  loss: 0.013320  eta: 0h5m  tot: 0h2m18s  (30.5%)%  lr: 0.034515  loss: 0.013317  eta: 0h5m  tot: 0h2m19s  (30.7%)0.013364  eta: 0h5m  tot: 0h2m19s  (30.7%)%  lr: 0.034455  loss: 0.013355  eta: 0h5m  tot: 0h2m20s  (30.8%)54.3%  lr: 0.034455  loss: 0.013360  eta: 0h5m  tot: 0h2m20s  (30.9%)55.6%  lr: 0.034284  loss: 0.013414  eta: 0h5m  tot: 0h2m21s  (31.1%)%  lr: 0.034244  loss: 0.013480  eta: 0h5m  tot: 0h2m21s  (31.2%)57.1%  lr: 0.034144  loss: 0.013447  eta: 0h5m  tot: 0h2m22s  (31.4%)57.2%  lr: 0.034144  loss: 0.013441  eta: 0h5m  tot: 0h2m22s  (31.4%)57.4%  lr: 0.034114  loss: 0.013470  eta: 0h5m  tot: 0h2m22s  (31.5%)62.1%  lr: 0.033594  loss: 0.013446  eta: 0h4m  tot: 0h2m26s  (32.4%)  tot: 0h2m28s  (32.7%)0h4m  tot: 0h2m28s  (32.8%)0.013464  eta: 0h4m  tot: 0h2m28s  (32.9%)67.6%  lr: 0.033093  loss: 0.013463  eta: 0h4m  tot: 0h2m31s  (33.5%)73.5%  lr: 0.032362  loss: 0.013373  eta: 0h4m  tot: 0h2m36s  (34.7%)76.9%  lr: 0.031992  loss: 0.013284  eta: 0h4m  tot: 0h2m39s  (35.4%)77.1%  lr: 0.031982  loss: 0.013282  eta: 0h4m  tot: 0h2m39s  (35.4%)78.0%  lr: 0.031892  loss: 0.013251  eta: 0h4m  tot: 0h2m40s  (35.6%)%  lr: 0.031842  loss: 0.013277  eta: 0h4m  tot: 0h2m41s  (35.7%)78.8%  lr: 0.031842  loss: 0.013273  eta: 0h4m  tot: 0h2m41s  (35.8%)80.0%  lr: 0.031752  loss: 0.013203  eta: 0h4m  tot: 0h2m42s  (36.0%)%  lr: 0.031702  loss: 0.013219  eta: 0h4m  tot: 0h2m43s  (36.2%)%  lr: 0.031572  loss: 0.013187  eta: 0h4m  tot: 0h2m44s  (36.4%)  lr: 0.031482  loss: 0.013163  eta: 0h4m  tot: 0h2m45s  (36.7%)%  lr: 0.031241  loss: 0.013109  eta: 0h4m  tot: 0h2m47s  (37.2%)4m  tot: 0h2m47s  (37.3%)0.013124  eta: 0h4m  tot: 0h2m48s  (37.4%)%  lr: 0.030651  loss: 0.013098  eta: 0h4m  tot: 0h2m52s  (38.3%)92.8%  lr: 0.030591  loss: 0.013085  eta: 0h4m  tot: 0h2m53s  (38.6%)93.1%  lr: 0.030541  loss: 0.013098  eta: 0h4m  tot: 0h2m53s  (38.6%)93.4%  lr: 0.030491  loss: 0.013114  eta: 0h4m  tot: 0h2m53s  (38.7%)%  lr: 0.030481  loss: 0.013116  eta: 0h4m  tot: 0h2m53s  (38.7%)94.0%  lr: 0.030451  loss: 0.013123  eta: 0h4m  tot: 0h2m54s  (38.8%)96.1%  lr: 0.030170  loss: 0.013169  eta: 0h4m  tot: 0h2m55s  (39.2%)97.7%  lr: 0.030080  loss: 0.013170  eta: 0h4m  tot: 0h2m56s  (39.5%)\n",
      " ---+++                Epoch    1 Train error : 0.01322598 +++--- ☃\n",
      "Training epoch 2: 0.03 0.01\n"
     ]
    },
    {
     "name": "stdout",
     "output_type": "stream",
     "text": [
      "Epoch: 100.0%  lr: 0.020000  loss: 0.009264  eta: 0h2m  tot: 0h4m22s  (60.0%)8%  lr: 0.029910  loss: 0.008951  eta: 0h4m  tot: 0h2m59s  (40.2%)%  lr: 0.029820  loss: 0.010916  eta: 0h4m  tot: 0h2m59s  (40.3%)%  lr: 0.029730  loss: 0.010024  eta: 0h4m  tot: 0h3m0s  (40.5%)2.5%  lr: 0.029730  loss: 0.009930  eta: 0h4m  tot: 0h3m0s  (40.5%)5.4%  lr: 0.029399  loss: 0.010095  eta: 0h4m  tot: 0h3m2s  (41.1%)5.6%  lr: 0.029389  loss: 0.010124  eta: 0h4m  tot: 0h3m3s  (41.1%)5.8%  lr: 0.029379  loss: 0.010034  eta: 0h4m  tot: 0h3m3s  (41.2%)%  lr: 0.029339  loss: 0.009881  eta: 0h4m  tot: 0h3m3s  (41.2%)7.4%  lr: 0.029199  loss: 0.009557  eta: 0h4m  tot: 0h3m4s  (41.5%)  lr: 0.029179  loss: 0.009477  eta: 0h4m  tot: 0h3m4s  (41.5%)7.7%  lr: 0.029159  loss: 0.009587  eta: 0h4m  tot: 0h3m5s  (41.5%)7.8%  lr: 0.029149  loss: 0.009547  eta: 0h4m  tot: 0h3m5s  (41.6%)9.4%  lr: 0.028839  loss: 0.009512  eta: 0h4m  tot: 0h3m6s  (41.9%)%  lr: 0.028489  loss: 0.009462  eta: 0h4m  tot: 0h3m8s  (42.4%)12.6%  lr: 0.028448  loss: 0.009476  eta: 0h4m  tot: 0h3m9s  (42.5%)13.9%  lr: 0.028308  loss: 0.009389  eta: 0h4m  tot: 0h3m10s  (42.8%)14.5%  lr: 0.028268  loss: 0.009281  eta: 0h4m  tot: 0h3m10s  (42.9%)15.1%  lr: 0.028188  loss: 0.009208  eta: 0h4m  tot: 0h3m11s  (43.0%)3m  tot: 0h3m15s  (43.9%)20.5%  lr: 0.027568  loss: 0.009079  eta: 0h3m  tot: 0h3m15s  (44.1%)22.3%  lr: 0.027397  loss: 0.009206  eta: 0h3m  tot: 0h3m17s  (44.5%)22.4%  lr: 0.027397  loss: 0.009185  eta: 0h3m  tot: 0h3m17s  (44.5%)23.6%  lr: 0.027317  loss: 0.009130  eta: 0h3m  tot: 0h3m18s  (44.7%)%  lr: 0.027257  loss: 0.009110  eta: 0h3m  tot: 0h3m19s  (44.8%)25.0%  lr: 0.027217  loss: 0.009087  eta: 0h3m  tot: 0h3m19s  (45.0%)25.9%  lr: 0.027157  loss: 0.009083  eta: 0h3m  tot: 0h3m20s  (45.2%)26.2%  lr: 0.027147  loss: 0.009096  eta: 0h3m  tot: 0h3m20s  (45.2%)26.4%  lr: 0.027147  loss: 0.009070  eta: 0h3m  tot: 0h3m21s  (45.3%)%  lr: 0.027017  loss: 0.009109  eta: 0h3m  tot: 0h3m21s  (45.4%)27.4%  lr: 0.027017  loss: 0.009121  eta: 0h3m  tot: 0h3m21s  (45.5%)27.7%  lr: 0.026997  loss: 0.009127  eta: 0h3m  tot: 0h3m22s  (45.5%)45.7%)28.8%  lr: 0.026867  loss: 0.009150  eta: 0h3m  tot: 0h3m23s  (45.8%)%  lr: 0.026797  loss: 0.009132  eta: 0h3m  tot: 0h3m24s  (45.9%)31.0%  lr: 0.026607  loss: 0.009166  eta: 0h3m  tot: 0h3m25s  (46.2%)32.4%  lr: 0.026447  loss: 0.009145  eta: 0h3m  tot: 0h3m26s  (46.5%)33.8%  lr: 0.026306  loss: 0.009165  eta: 0h3m  tot: 0h3m27s  (46.8%)33.9%  lr: 0.026266  loss: 0.009167  eta: 0h3m  tot: 0h3m27s  (46.8%)34.0%  lr: 0.026266  loss: 0.009167  eta: 0h3m  tot: 0h3m27s  (46.8%)  lr: 0.025996  loss: 0.009131  eta: 0h3m  tot: 0h3m30s  (47.4%)37.8%  lr: 0.025936  loss: 0.009114  eta: 0h3m  tot: 0h3m30s  (47.6%)%  lr: 0.025526  loss: 0.009028  eta: 0h3m  tot: 0h3m34s  (48.3%)42.8%  lr: 0.025395  loss: 0.009054  eta: 0h3m  tot: 0h3m35s  (48.6%)42.9%  lr: 0.025365  loss: 0.009067  eta: 0h3m  tot: 0h3m35s  (48.6%)43.7%  lr: 0.025285  loss: 0.009059  eta: 0h3m  tot: 0h3m35s  (48.7%)44.1%  lr: 0.025235  loss: 0.009052  eta: 0h3m  tot: 0h3m36s  (48.8%)44.2%  lr: 0.025225  loss: 0.009045  eta: 0h3m  tot: 0h3m36s  (48.8%)44.4%  lr: 0.025195  loss: 0.009052  eta: 0h3m  tot: 0h3m36s  (48.9%)45.3%  lr: 0.025145  loss: 0.009037  eta: 0h3m  tot: 0h3m37s  (49.1%)46.0%  lr: 0.025075  loss: 0.009060  eta: 0h3m  tot: 0h3m37s  (49.2%)0.024995  loss: 0.009076  eta: 0h3m  tot: 0h3m38s  (49.3%)  tot: 0h3m38s  (49.5%)50.0%  lr: 0.024595  loss: 0.009155  eta: 0h3m  tot: 0h3m41s  (50.0%)51.0%  lr: 0.024515  loss: 0.009177  eta: 0h3m  tot: 0h3m41s  (50.2%)53.1%  lr: 0.024234  loss: 0.009150  eta: 0h3m  tot: 0h3m43s  (50.6%)53.9%  lr: 0.024154  loss: 0.009160  eta: 0h3m  tot: 0h3m44s  (50.8%)54.6%  lr: 0.024064  loss: 0.009163  eta: 0h3m  tot: 0h3m44s  (50.9%)55.1%  lr: 0.024024  loss: 0.009179  eta: 0h3m  tot: 0h3m45s  (51.0%)55.4%  lr: 0.024024  loss: 0.009156  eta: 0h3m  tot: 0h3m45s  (51.1%)56.5%  lr: 0.023944  loss: 0.009118  eta: 0h3m  tot: 0h3m46s  (51.3%)57.5%  lr: 0.023844  loss: 0.009142  eta: 0h3m  tot: 0h3m47s  (51.5%)58.8%  lr: 0.023704  loss: 0.009195  eta: 0h3m  tot: 0h3m48s  (51.8%)59.0%  lr: 0.023684  loss: 0.009171  eta: 0h3m  tot: 0h3m48s  (51.8%)59.2%  lr: 0.023684  loss: 0.009189  eta: 0h3m  tot: 0h3m48s  (51.8%)59.8%  lr: 0.023664  loss: 0.009183  eta: 0h3m  tot: 0h3m49s  (52.0%)62.8%  lr: 0.023404  loss: 0.009137  eta: 0h3m  tot: 0h3m51s  (52.6%)66.8%  lr: 0.023043  loss: 0.009138  eta: 0h3m  tot: 0h3m54s  (53.4%)69.4%  lr: 0.022793  loss: 0.009261  eta: 0h3m  tot: 0h3m57s  (53.9%)0.022753  loss: 0.009235  eta: 0h3m  tot: 0h3m57s  (54.0%)71.6%  lr: 0.022603  loss: 0.009242  eta: 0h3m  tot: 0h3m58s  (54.3%)73.4%  lr: 0.022463  loss: 0.009211  eta: 0h3m  tot: 0h4m0s  (54.7%)  lr: 0.022393  loss: 0.009194  eta: 0h3m  tot: 0h4m0s  (54.8%)74.2%  lr: 0.022393  loss: 0.009192  eta: 0h3m  tot: 0h4m1s  (54.8%)78.6%  lr: 0.021982  loss: 0.009243  eta: 0h3m  tot: 0h4m4s  (55.7%)79.0%  lr: 0.021882  loss: 0.009236  eta: 0h3m  tot: 0h4m5s  (55.8%)80.1%  lr: 0.021792  loss: 0.009225  eta: 0h3m  tot: 0h4m6s  (56.0%)80.3%  lr: 0.021782  loss: 0.009228  eta: 0h3m  tot: 0h4m6s  (56.1%)h4m7s  (56.3%)m  tot: 0h4m9s  (56.8%)84.3%  lr: 0.021502  loss: 0.009218  eta: 0h3m  tot: 0h4m9s  (56.9%)86.0%  lr: 0.021321  loss: 0.009246  eta: 0h3m  tot: 0h4m11s  (57.2%)%  lr: 0.021171  loss: 0.009267  eta: 0h3m  tot: 0h4m12s  (57.5%)0.020961  loss: 0.009263  eta: 0h2m  tot: 0h4m14s  (57.9%)89.7%  lr: 0.020951  loss: 0.009262  eta: 0h2m  tot: 0h4m14s  (57.9%)91.8%  lr: 0.020771  loss: 0.009248  eta: 0h2m  tot: 0h4m16s  (58.4%)92.5%  lr: 0.020711  loss: 0.009263  eta: 0h2m  tot: 0h4m17s  (58.5%)93.4%  lr: 0.020591  loss: 0.009262  eta: 0h2m  tot: 0h4m17s  (58.7%)94.9%  lr: 0.020411  loss: 0.009257  eta: 0h2m  tot: 0h4m19s  (59.0%)%  lr: 0.020310  loss: 0.009215  eta: 0h2m  tot: 0h4m20s  (59.2%)97.3%  lr: 0.020110  loss: 0.009228  eta: 0h2m  tot: 0h4m21s  (59.5%)\n",
      " ---+++                Epoch    2 Train error : 0.00944871 +++--- ☃\n",
      "Training epoch 3: 0.02 0.01\n",
      "Epoch: 100.0%  lr: 0.010000  loss: 0.007512  eta: 0h1m  tot: 0h5m50s  (80.0%)9%  lr: 0.019770  loss: 0.006983  eta: 0h3m  tot: 0h4m24s  (60.4%)3.1%  lr: 0.019590  loss: 0.007004  eta: 0h3m  tot: 0h4m25s  (60.6%)3.7%  lr: 0.019530  loss: 0.007155  eta: 0h3m  tot: 0h4m26s  (60.7%)4.1%  lr: 0.019500  loss: 0.007062  eta: 0h2m  tot: 0h4m26s  (60.8%)5.3%  lr: 0.019359  loss: 0.007132  eta: 0h2m  tot: 0h4m27s  (61.1%)5.5%  lr: 0.019309  loss: 0.007148  eta: 0h2m  tot: 0h4m27s  (61.1%)5.6%  lr: 0.019309  loss: 0.007187  eta: 0h2m  tot: 0h4m27s  (61.1%)2m  tot: 0h4m28s  (61.4%)%  lr: 0.018869  loss: 0.007254  eta: 0h2m  tot: 0h4m31s  (62.0%)10.4%  lr: 0.018819  loss: 0.007293  eta: 0h2m  tot: 0h4m31s  (62.1%)11.1%  lr: 0.018749  loss: 0.007480  eta: 0h2m  tot: 0h4m32s  (62.2%)%  lr: 0.018659  loss: 0.007454  eta: 0h2m  tot: 0h4m32s  (62.3%)0.018579  loss: 0.007584  eta: 0h2m  tot: 0h4m33s  (62.4%)12.9%  lr: 0.018539  loss: 0.007635  eta: 0h2m  tot: 0h4m34s  (62.6%)%  lr: 0.018519  loss: 0.007559  eta: 0h2m  tot: 0h4m34s  (62.6%)%  lr: 0.018348  loss: 0.007432  eta: 0h2m  tot: 0h4m36s  (63.0%)16.6%  lr: 0.018198  loss: 0.007543  eta: 0h2m  tot: 0h4m37s  (63.3%)0.018118  loss: 0.007617  eta: 0h2m  tot: 0h4m38s  (63.5%)%  lr: 0.017427  loss: 0.007445  eta: 0h2m  tot: 0h4m44s  (64.8%)%  lr: 0.017037  loss: 0.007563  eta: 0h2m  tot: 0h4m48s  (65.7%)  eta: 0h2m  tot: 0h4m48s  (65.8%)0.007590  eta: 0h2m  tot: 0h4m50s  (66.2%)32.9%  lr: 0.016637  loss: 0.007571  eta: 0h2m  tot: 0h4m52s  (66.6%)36.6%  lr: 0.016316  loss: 0.007594  eta: 0h2m  tot: 0h4m55s  (67.3%)37.0%  lr: 0.016296  loss: 0.007597  eta: 0h2m  tot: 0h4m55s  (67.4%)37.3%  lr: 0.016286  loss: 0.007617  eta: 0h2m  tot: 0h4m55s  (67.5%)38.2%  lr: 0.016136  loss: 0.007617  eta: 0h2m  tot: 0h4m56s  (67.6%)38.3%  lr: 0.016136  loss: 0.007610  eta: 0h2m  tot: 0h4m56s  (67.7%)38.5%  lr: 0.016126  loss: 0.007618  eta: 0h2m  tot: 0h4m56s  (67.7%)39.2%  lr: 0.015996  loss: 0.007624  eta: 0h2m  tot: 0h4m57s  (67.8%)h2m  tot: 0h4m57s  (68.0%)41.4%  lr: 0.015766  loss: 0.007569  eta: 0h2m  tot: 0h4m58s  (68.3%)43.0%  lr: 0.015556  loss: 0.007552  eta: 0h2m  tot: 0h5m0s  (68.6%)45.4%  lr: 0.015405  loss: 0.007568  eta: 0h2m  tot: 0h5m2s  (69.1%)46.5%  lr: 0.015315  loss: 0.007593  eta: 0h2m  tot: 0h5m3s  (69.3%)%  lr: 0.015195  loss: 0.007602  eta: 0h2m  tot: 0h5m4s  (69.5%)48.3%  lr: 0.015105  loss: 0.007592  eta: 0h2m  tot: 0h5m5s  (69.7%)50.0%  lr: 0.014975  loss: 0.007589  eta: 0h2m  tot: 0h5m6s  (70.0%)52.5%  lr: 0.014735  loss: 0.007570  eta: 0h2m  tot: 0h5m8s  (70.5%)53.8%  lr: 0.014565  loss: 0.007528  eta: 0h2m  tot: 0h5m9s  (70.8%)54.6%  lr: 0.014445  loss: 0.007512  eta: 0h2m  tot: 0h5m10s  (70.9%)55.0%  lr: 0.014404  loss: 0.007506  eta: 0h2m  tot: 0h5m10s  (71.0%)%  lr: 0.014354  loss: 0.007508  eta: 0h2m  tot: 0h5m11s  (71.1%)55.5%  lr: 0.014344  loss: 0.007513  eta: 0h2m  tot: 0h5m11s  (71.1%)56.1%  lr: 0.014244  loss: 0.007497  eta: 0h2m  tot: 0h5m11s  (71.2%)56.3%  lr: 0.014214  loss: 0.007505  eta: 0h2m  tot: 0h5m11s  (71.3%)56.5%  lr: 0.014174  loss: 0.007513  eta: 0h2m  tot: 0h5m12s  (71.3%)57.3%  lr: 0.014094  loss: 0.007516  eta: 0h2m  tot: 0h5m12s  (71.5%)%  lr: 0.014034  loss: 0.007513  eta: 0h2m  tot: 0h5m13s  (71.5%)58.1%  lr: 0.014004  loss: 0.007518  eta: 0h2m  tot: 0h5m13s  (71.6%)58.4%  lr: 0.013984  loss: 0.007532  eta: 0h2m  tot: 0h5m14s  (71.7%)59.4%  lr: 0.013864  loss: 0.007522  eta: 0h2m  tot: 0h5m15s  (71.9%)59.8%  lr: 0.013844  loss: 0.007507  eta: 0h2m  tot: 0h5m15s  (72.0%)60.3%  lr: 0.013784  loss: 0.007494  eta: 0h2m  tot: 0h5m16s  (72.1%)60.5%  lr: 0.013764  loss: 0.007487  eta: 0h2m  tot: 0h5m16s  (72.1%)61.6%  lr: 0.013644  loss: 0.007528  eta: 0h2m  tot: 0h5m17s  (72.3%)62.5%  lr: 0.013544  loss: 0.007557  eta: 0h2m  tot: 0h5m18s  (72.5%)63.0%  lr: 0.013504  loss: 0.007552  eta: 0h2m  tot: 0h5m18s  (72.6%)63.1%  lr: 0.013504  loss: 0.007548  eta: 0h2m  tot: 0h5m19s  (72.6%)65.0%  lr: 0.013323  loss: 0.007540  eta: 0h2m  tot: 0h5m20s  (73.0%)67.1%  lr: 0.013133  loss: 0.007532  eta: 0h1m  tot: 0h5m22s  (73.4%)68.0%  lr: 0.013053  loss: 0.007504  eta: 0h1m  tot: 0h5m23s  (73.6%)68.8%  lr: 0.012993  loss: 0.007511  eta: 0h1m  tot: 0h5m24s  (73.8%)69.6%  lr: 0.012883  loss: 0.007520  eta: 0h1m  tot: 0h5m24s  (73.9%)69.9%  lr: 0.012873  loss: 0.007522  eta: 0h1m  tot: 0h5m24s  (74.0%)  eta: 0h1m  tot: 0h5m25s  (74.2%)71.0%  lr: 0.012763  loss: 0.007522  eta: 0h1m  tot: 0h5m26s  (74.2%)72.2%  lr: 0.012633  loss: 0.007517  eta: 0h1m  tot: 0h5m27s  (74.4%)72.6%  lr: 0.012623  loss: 0.007505  eta: 0h1m  tot: 0h5m27s  (74.5%)73.8%  lr: 0.012443  loss: 0.007495  eta: 0h1m  tot: 0h5m28s  (74.8%)74.0%  lr: 0.012433  loss: 0.007512  eta: 0h1m  tot: 0h5m28s  (74.8%)74.3%  lr: 0.012403  loss: 0.007515  eta: 0h1m  tot: 0h5m28s  (74.9%)75.3%  lr: 0.012282  loss: 0.007525  eta: 0h1m  tot: 0h5m29s  (75.1%)75.4%  lr: 0.012282  loss: 0.007521  eta: 0h1m  tot: 0h5m29s  (75.1%)76.1%  lr: 0.012232  loss: 0.007521  eta: 0h1m  tot: 0h5m30s  (75.2%)76.5%  lr: 0.012182  loss: 0.007534  eta: 0h1m  tot: 0h5m30s  (75.3%)77.1%  lr: 0.012132  loss: 0.007528  eta: 0h1m  tot: 0h5m31s  (75.4%)77.7%  lr: 0.012092  loss: 0.007512  eta: 0h1m  tot: 0h5m31s  (75.5%)77.8%  lr: 0.012092  loss: 0.007508  eta: 0h1m  tot: 0h5m31s  (75.6%)78.4%  lr: 0.012052  loss: 0.007513  eta: 0h1m  tot: 0h5m32s  (75.7%)1m  tot: 0h5m32s  (75.8%)80.2%  lr: 0.011902  loss: 0.007548  eta: 0h1m  tot: 0h5m33s  (76.0%)80.5%  lr: 0.011892  loss: 0.007532  eta: 0h1m  tot: 0h5m33s  (76.1%)82.2%  lr: 0.011632  loss: 0.007520  eta: 0h1m  tot: 0h5m35s  (76.4%)76.5%)%  lr: 0.011592  loss: 0.007521  eta: 0h1m  tot: 0h5m35s  (76.5%)82.6%  lr: 0.011592  loss: 0.007526  eta: 0h1m  tot: 0h5m35s  (76.5%)85.2%  lr: 0.011241  loss: 0.007481  eta: 0h1m  tot: 0h5m37s  (77.0%)85.4%  lr: 0.011221  loss: 0.007484  eta: 0h1m  tot: 0h5m37s  (77.1%)0.007485  eta: 0h1m  tot: 0h5m38s  (77.2%)86.0%  lr: 0.011201  loss: 0.007486  eta: 0h1m  tot: 0h5m38s  (77.2%)88.7%  lr: 0.010971  loss: 0.007482  eta: 0h1m  tot: 0h5m40s  (77.7%)90.6%  lr: 0.010711  loss: 0.007494  eta: 0h1m  tot: 0h5m42s  (78.1%)%  lr: 0.010701  loss: 0.007491  eta: 0h1m  tot: 0h5m42s  (78.1%)90.8%  lr: 0.010691  loss: 0.007490  eta: 0h1m  tot: 0h5m42s  (78.2%)92.5%  lr: 0.010561  loss: 0.007490  eta: 0h1m  tot: 0h5m44s  (78.5%)92.9%  lr: 0.010501  loss: 0.007496  eta: 0h1m  tot: 0h5m45s  (78.6%)93.3%  lr: 0.010461  loss: 0.007494  eta: 0h1m  tot: 0h5m45s  (78.7%)93.4%  lr: 0.010441  loss: 0.007492  eta: 0h1m  tot: 0h5m45s  (78.7%)94.0%  lr: 0.010300  loss: 0.007498  eta: 0h1m  tot: 0h5m46s  (78.8%)95.4%  lr: 0.010180  loss: 0.007484  eta: 0h1m  tot: 0h5m47s  (79.1%)96.4%  lr: 0.010060  loss: 0.007476  eta: 0h1m  tot: 0h5m48s  (79.3%)97.0%  lr: 0.010030  loss: 0.007480  eta: 0h1m  tot: 0h5m49s  (79.4%)\n",
      " ---+++                Epoch    3 Train error : 0.00772007 +++--- ☃\n",
      "Training epoch 4: 0.01 0.01\n"
     ]
    },
    {
     "name": "stdout",
     "output_type": "stream",
     "text": [
      "Epoch: 100.0%  lr: 0.000000  loss: 0.006764  eta: <1min   tot: 0h7m15s  (100.0%) lr: 0.009830  loss: 0.004945  eta: 0h1m  tot: 0h5m52s  (80.4%)3.1%  lr: 0.009700  loss: 0.005417  eta: 0h1m  tot: 0h5m53s  (80.6%)4.9%  lr: 0.009570  loss: 0.005940  eta: 0h1m  tot: 0h5m54s  (81.0%)5.1%  lr: 0.009540  loss: 0.005801  eta: 0h1m  tot: 0h5m55s  (81.0%)5.3%  lr: 0.009520  loss: 0.005897  eta: 0h1m  tot: 0h5m55s  (81.1%)6.0%  lr: 0.009449  loss: 0.005709  eta: 0h1m  tot: 0h5m55s  (81.2%)7.0%  lr: 0.009319  loss: 0.005875  eta: 0h1m  tot: 0h5m56s  (81.4%)8.1%  lr: 0.009179  loss: 0.005792  eta: 0h1m  tot: 0h5m57s  (81.6%)10.0%  lr: 0.008999  loss: 0.005828  eta: 0h1m  tot: 0h5m59s  (82.0%)10.2%  lr: 0.008999  loss: 0.005857  eta: 0h1m  tot: 0h5m59s  (82.0%)10.7%  lr: 0.008979  loss: 0.005969  eta: 0h1m  tot: 0h5m59s  (82.1%)11.1%  lr: 0.008959  loss: 0.006031  eta: 0h1m  tot: 0h6m0s  (82.2%)11.4%  lr: 0.008939  loss: 0.005947  eta: 0h1m  tot: 0h6m0s  (82.3%)11.6%  lr: 0.008919  loss: 0.005951  eta: 0h1m  tot: 0h6m0s  (82.3%)11.9%  lr: 0.008869  loss: 0.006000  eta: 0h1m  tot: 0h6m0s  (82.4%)12.2%  lr: 0.008849  loss: 0.006032  eta: 0h1m  tot: 0h6m1s  (82.4%)%  lr: 0.008739  loss: 0.006033  eta: 0h1m  tot: 0h6m1s  (82.6%)  lr: 0.008719  loss: 0.006029  eta: 0h1m  tot: 0h6m1s  (82.6%)14.9%  lr: 0.008579  loss: 0.006192  eta: 0h1m  tot: 0h6m3s  (83.0%)%  lr: 0.008479  loss: 0.006213  eta: 0h1m  tot: 0h6m4s  (83.2%)h1m  tot: 0h6m7s  (83.7%)18.7%  lr: 0.008228  loss: 0.006213  eta: 0h1m  tot: 0h6m7s  (83.7%)  loss: 0.006194  eta: 0h1m  tot: 0h6m7s  (83.8%)19.2%  lr: 0.008188  loss: 0.006254  eta: 0h1m  tot: 0h6m8s  (83.8%)19.9%  lr: 0.008088  loss: 0.006203  eta: 0h1m  tot: 0h6m8s  (84.0%)21.8%  lr: 0.007828  loss: 0.006374  eta: 0h1m  tot: 0h6m10s  (84.4%)22.1%  lr: 0.007808  loss: 0.006374  eta: 0h1m  tot: 0h6m10s  (84.4%)23.5%  lr: 0.007618  loss: 0.006443  eta: 0h1m  tot: 0h6m11s  (84.7%)23.8%  lr: 0.007578  loss: 0.006451  eta: 0h1m  tot: 0h6m11s  (84.8%)0.007347  loss: 0.006429  eta: 0h1m  tot: 0h6m13s  (85.1%)26.9%  lr: 0.007247  loss: 0.006496  eta: 0h1m  tot: 0h6m14s  (85.4%)28.9%  lr: 0.007017  loss: 0.006593  eta: 0h1m  tot: 0h6m16s  (85.8%)29.2%  lr: 0.006997  loss: 0.006591  eta: 0h1m  tot: 0h6m16s  (85.8%)30.1%  lr: 0.006947  loss: 0.006569  eta: 0h1m  tot: 0h6m17s  (86.0%)30.2%  lr: 0.006927  loss: 0.006562  eta: 0h1m  tot: 0h6m17s  (86.0%)%  lr: 0.006927  loss: 0.006552  eta: 0h1m  tot: 0h6m17s  (86.1%)31.4%  lr: 0.006817  loss: 0.006530  eta: 0h1m  tot: 0h6m19s  (86.3%)32.4%  lr: 0.006727  loss: 0.006549  eta: 0h1m  tot: 0h6m20s  (86.5%)32.7%  lr: 0.006727  loss: 0.006557  eta: 0h1m  tot: 0h6m20s  (86.5%)33.8%  lr: 0.006627  loss: 0.006548  eta: 0h1m  tot: 0h6m21s  (86.8%)%  lr: 0.006567  loss: 0.006513  eta: 0h1m  tot: 0h6m22s  (86.9%)0.006506  eta: <1min   tot: 0h6m23s  (87.2%)  tot: 0h6m23s  (87.2%)0.006346  loss: 0.006527  eta: <1min   tot: 0h6m23s  (87.3%)36.5%  lr: 0.006336  loss: 0.006541  eta: <1min   tot: 0h6m23s  (87.3%)36.8%  lr: 0.006286  loss: 0.006537  eta: <1min   tot: 0h6m24s  (87.4%)37.0%  lr: 0.006286  loss: 0.006540  eta: <1min   tot: 0h6m24s  (87.4%) (87.8%)39.2%  lr: 0.006136  loss: 0.006584  eta: <1min   tot: 0h6m26s  (87.8%)%  lr: 0.006096  loss: 0.006586  eta: <1min   tot: 0h6m26s  (88.0%)40.2%  lr: 0.006076  loss: 0.006601  eta: <1min   tot: 0h6m26s  (88.0%)41.3%  lr: 0.005986  loss: 0.006622  eta: <1min   tot: 0h6m27s  (88.3%)42.5%  lr: 0.005846  loss: 0.006659  eta: <1min   tot: 0h6m29s  (88.5%)44.4%  lr: 0.005706  loss: 0.006658  eta: <1min   tot: 0h6m30s  (88.9%)45.6%  lr: 0.005616  loss: 0.006655  eta: <1min   tot: 0h6m31s  (89.1%)0.006661  eta: <1min   tot: 0h6m31s  (89.3%)%  lr: 0.005415  loss: 0.006674  eta: <1min   tot: 0h6m33s  (89.5%)47.9%  lr: 0.005405  loss: 0.006683  eta: <1min   tot: 0h6m33s  (89.6%)48.3%  lr: 0.005345  loss: 0.006677  eta: <1min   tot: 0h6m33s  (89.7%)48.4%  lr: 0.005315  loss: 0.006693  eta: <1min   tot: 0h6m33s  (89.7%)49.0%  lr: 0.005225  loss: 0.006659  eta: <1min   tot: 0h6m34s  (89.8%)%  lr: 0.005045  loss: 0.006681  eta: <1min   tot: 0h6m35s  (90.1%)50.5%  lr: 0.005035  loss: 0.006690  eta: <1min   tot: 0h6m35s  (90.1%)50.7%  lr: 0.004995  loss: 0.006685  eta: <1min   tot: 0h6m35s  (90.1%)0.006640  eta: <1min   tot: 0h6m38s  (90.6%)56.7%  lr: 0.004394  loss: 0.006652  eta: <1min   tot: 0h6m40s  (91.3%)0.004364  loss: 0.006637  eta: <1min   tot: 0h6m41s  (91.4%)59.0%  lr: 0.004184  loss: 0.006663  eta: <1min   tot: 0h6m42s  (91.8%)%  lr: 0.004144  loss: 0.006669  eta: <1min   tot: 0h6m43s  (91.9%)61.3%  lr: 0.004104  loss: 0.006642  eta: <1min   tot: 0h6m44s  (92.3%)61.8%  lr: 0.004064  loss: 0.006656  eta: <1min   tot: 0h6m44s  (92.4%)62.6%  lr: 0.004004  loss: 0.006659  eta: <1min   tot: 0h6m45s  (92.5%)62.9%  lr: 0.003934  loss: 0.006659  eta: <1min   tot: 0h6m45s  (92.6%)63.6%  lr: 0.003864  loss: 0.006679  eta: <1min   tot: 0h6m46s  (92.7%)93.2%)93.3%)66.6%  lr: 0.003614  loss: 0.006753  eta: <1min   tot: 0h6m48s  (93.3%)0.006780  eta: <1min   tot: 0h6m50s  (93.8%)  tot: 0h6m51s  (94.0%)70.6%  lr: 0.003193  loss: 0.006786  eta: <1min   tot: 0h6m52s  (94.1%)71.2%  lr: 0.003143  loss: 0.006796  eta: <1min   tot: 0h6m52s  (94.2%)71.6%  lr: 0.003123  loss: 0.006789  eta: <1min   tot: 0h6m52s  (94.3%)71.7%  lr: 0.003123  loss: 0.006787  eta: <1min   tot: 0h6m52s  (94.3%)72.1%  lr: 0.003033  loss: 0.006805  eta: <1min   tot: 0h6m53s  (94.4%)0h6m53s  (94.6%)73.0%  lr: 0.002963  loss: 0.006829  eta: <1min   tot: 0h6m54s  (94.6%)75.3%  lr: 0.002683  loss: 0.006814  eta: <1min   tot: 0h6m55s  (95.1%)76.6%  lr: 0.002523  loss: 0.006801  eta: <1min   tot: 0h6m56s  (95.3%)78.5%  lr: 0.002232  loss: 0.006801  eta: <1min   tot: 0h6m58s  (95.7%)78.9%  lr: 0.002162  loss: 0.006789  eta: <1min   tot: 0h6m58s  (95.8%)0.002162  loss: 0.006789  eta: <1min   tot: 0h6m59s  (95.8%)79.8%  lr: 0.002082  loss: 0.006812  eta: <1min   tot: 0h6m59s  (96.0%)s  (96.1%)81.4%  lr: 0.001952  loss: 0.006803  eta: <1min   tot: 0h7m0s  (96.3%)%  lr: 0.001201  loss: 0.006800  eta: <1min   tot: 0h7m6s  (97.6%)88.3%  lr: 0.001141  loss: 0.006799  eta: <1min   tot: 0h7m6s  (97.7%)89.2%  lr: 0.001051  loss: 0.006804  eta: <1min   tot: 0h7m7s  (97.8%)92.8%  lr: 0.000711  loss: 0.006790  eta: <1min   tot: 0h7m10s  (98.6%)93.1%  lr: 0.000651  loss: 0.006780  eta: <1min   tot: 0h7m10s  (98.6%)93.9%  lr: 0.000521  loss: 0.006801  eta: <1min   tot: 0h7m11s  (98.8%)94.0%  lr: 0.000511  loss: 0.006804  eta: <1min   tot: 0h7m11s  (98.8%)94.8%  lr: 0.000431  loss: 0.006797  eta: <1min   tot: 0h7m12s  (99.0%)0h7m12s  (99.0%)95.4%  lr: 0.000380  loss: 0.006785  eta: <1min   tot: 0h7m12s  (99.1%)95.7%  lr: 0.000340  loss: 0.006782  eta: <1min   tot: 0h7m12s  (99.1%)95.9%  lr: 0.000330  loss: 0.006783  eta: <1min   tot: 0h7m13s  (99.2%)97.3%  lr: 0.000140  loss: 0.006763  eta: <1min   tot: 0h7m14s  (99.5%)98.5%  lr: 0.000010  loss: 0.006780  eta: <1min   tot: 0h7m14s  (99.7%)\n",
      " ---+++                Epoch    4 Train error : 0.00691018 +++--- ☃\n",
      "Saving model to file : starspace_embedding\n",
      "Saving model in tsv format : starspace_embedding.tsv\n"
     ]
    }
   ],
   "source": [
    "setup_starspace()\n",
    "! ./Starspace/starspace train -trainFile \"data/prepared_train.tsv\" -model starspace_embedding \\\n",
    "-trainMode 3 -adagrad true -ngrams 1 -epoch 5 -dim 100 -similarity cosine -minCount 2 \\\n",
    "-verbose true -fileFormat labelDoc -negSearchLimit 10 -lr 0.05"
   ]
  },
  {
   "cell_type": "code",
   "execution_count": 70,
   "metadata": {},
   "outputs": [],
   "source": [
    "starspace_embeddings = dict()\n",
    "for line in open('word_embeddings.tsv', encoding='utf-8'):\n",
    "    row = line.strip().split('\\t')\n",
    "    starspace_embeddings[row[0]]=np.array(row[1:],dtype=np.float32)"
   ]
  },
  {
   "cell_type": "code",
   "execution_count": 71,
   "metadata": {},
   "outputs": [],
   "source": [
    "posts_df = pd.read_csv('data/tagged_posts.tsv', sep='\\t')"
   ]
  },
  {
   "cell_type": "code",
   "execution_count": 72,
   "metadata": {},
   "outputs": [
    {
     "data": {
      "text/html": [
       "<div>\n",
       "<style scoped>\n",
       "    .dataframe tbody tr th:only-of-type {\n",
       "        vertical-align: middle;\n",
       "    }\n",
       "\n",
       "    .dataframe tbody tr th {\n",
       "        vertical-align: top;\n",
       "    }\n",
       "\n",
       "    .dataframe thead th {\n",
       "        text-align: right;\n",
       "    }\n",
       "</style>\n",
       "<table border=\"1\" class=\"dataframe\">\n",
       "  <thead>\n",
       "    <tr style=\"text-align: right;\">\n",
       "      <th></th>\n",
       "      <th>post_id</th>\n",
       "      <th>title</th>\n",
       "      <th>tag</th>\n",
       "    </tr>\n",
       "  </thead>\n",
       "  <tbody>\n",
       "    <tr>\n",
       "      <th>0</th>\n",
       "      <td>9</td>\n",
       "      <td>Calculate age in C#</td>\n",
       "      <td>c#</td>\n",
       "    </tr>\n",
       "    <tr>\n",
       "      <th>1</th>\n",
       "      <td>16</td>\n",
       "      <td>Filling a DataSet or DataTable from a LINQ que...</td>\n",
       "      <td>c#</td>\n",
       "    </tr>\n",
       "    <tr>\n",
       "      <th>2</th>\n",
       "      <td>39</td>\n",
       "      <td>Reliable timer in a console application</td>\n",
       "      <td>c#</td>\n",
       "    </tr>\n",
       "    <tr>\n",
       "      <th>3</th>\n",
       "      <td>42</td>\n",
       "      <td>Best way to allow plugins for a PHP application</td>\n",
       "      <td>php</td>\n",
       "    </tr>\n",
       "    <tr>\n",
       "      <th>4</th>\n",
       "      <td>59</td>\n",
       "      <td>How do I get a distinct, ordered list of names...</td>\n",
       "      <td>c#</td>\n",
       "    </tr>\n",
       "  </tbody>\n",
       "</table>\n",
       "</div>"
      ],
      "text/plain": [
       "   post_id                                              title  tag\n",
       "0        9                                Calculate age in C#   c#\n",
       "1       16  Filling a DataSet or DataTable from a LINQ que...   c#\n",
       "2       39            Reliable timer in a console application   c#\n",
       "3       42    Best way to allow plugins for a PHP application  php\n",
       "4       59  How do I get a distinct, ordered list of names...   c#"
      ]
     },
     "execution_count": 72,
     "metadata": {},
     "output_type": "execute_result"
    }
   ],
   "source": [
    "posts_df.head()"
   ]
  },
  {
   "cell_type": "code",
   "execution_count": 73,
   "metadata": {},
   "outputs": [
    {
     "data": {
      "text/plain": [
       "(100,)"
      ]
     },
     "execution_count": 73,
     "metadata": {},
     "output_type": "execute_result"
    }
   ],
   "source": [
    "starspace_embeddings['c++'].shape"
   ]
  },
  {
   "cell_type": "code",
   "execution_count": 74,
   "metadata": {},
   "outputs": [],
   "source": [
    "counts_by_tag = posts_df.groupby(['tag']).count()['post_id']"
   ]
  },
  {
   "cell_type": "code",
   "execution_count": 75,
   "metadata": {},
   "outputs": [
    {
     "data": {
      "text/html": [
       "<div>\n",
       "<style scoped>\n",
       "    .dataframe tbody tr th:only-of-type {\n",
       "        vertical-align: middle;\n",
       "    }\n",
       "\n",
       "    .dataframe tbody tr th {\n",
       "        vertical-align: top;\n",
       "    }\n",
       "\n",
       "    .dataframe thead th {\n",
       "        text-align: right;\n",
       "    }\n",
       "</style>\n",
       "<table border=\"1\" class=\"dataframe\">\n",
       "  <thead>\n",
       "    <tr style=\"text-align: right;\">\n",
       "      <th></th>\n",
       "      <th>post_id</th>\n",
       "      <th>title</th>\n",
       "    </tr>\n",
       "    <tr>\n",
       "      <th>tag</th>\n",
       "      <th></th>\n",
       "      <th></th>\n",
       "    </tr>\n",
       "  </thead>\n",
       "  <tbody>\n",
       "    <tr>\n",
       "      <th>c#</th>\n",
       "      <td>394451</td>\n",
       "      <td>394451</td>\n",
       "    </tr>\n",
       "    <tr>\n",
       "      <th>c_cpp</th>\n",
       "      <td>281300</td>\n",
       "      <td>281300</td>\n",
       "    </tr>\n",
       "    <tr>\n",
       "      <th>java</th>\n",
       "      <td>383456</td>\n",
       "      <td>383456</td>\n",
       "    </tr>\n",
       "    <tr>\n",
       "      <th>javascript</th>\n",
       "      <td>375867</td>\n",
       "      <td>375867</td>\n",
       "    </tr>\n",
       "    <tr>\n",
       "      <th>php</th>\n",
       "      <td>321752</td>\n",
       "      <td>321752</td>\n",
       "    </tr>\n",
       "    <tr>\n",
       "      <th>python</th>\n",
       "      <td>208607</td>\n",
       "      <td>208607</td>\n",
       "    </tr>\n",
       "    <tr>\n",
       "      <th>r</th>\n",
       "      <td>36359</td>\n",
       "      <td>36359</td>\n",
       "    </tr>\n",
       "    <tr>\n",
       "      <th>ruby</th>\n",
       "      <td>99930</td>\n",
       "      <td>99930</td>\n",
       "    </tr>\n",
       "    <tr>\n",
       "      <th>swift</th>\n",
       "      <td>34809</td>\n",
       "      <td>34809</td>\n",
       "    </tr>\n",
       "    <tr>\n",
       "      <th>vb</th>\n",
       "      <td>35044</td>\n",
       "      <td>35044</td>\n",
       "    </tr>\n",
       "  </tbody>\n",
       "</table>\n",
       "</div>"
      ],
      "text/plain": [
       "            post_id   title\n",
       "tag                        \n",
       "c#           394451  394451\n",
       "c_cpp        281300  281300\n",
       "java         383456  383456\n",
       "javascript   375867  375867\n",
       "php          321752  321752\n",
       "python       208607  208607\n",
       "r             36359   36359\n",
       "ruby          99930   99930\n",
       "swift         34809   34809\n",
       "vb            35044   35044"
      ]
     },
     "execution_count": 75,
     "metadata": {},
     "output_type": "execute_result"
    }
   ],
   "source": [
    "posts_df.groupby(['tag']).count()"
   ]
  },
  {
   "cell_type": "code",
   "execution_count": 76,
   "metadata": {},
   "outputs": [
    {
     "name": "stdout",
     "output_type": "stream",
     "text": [
      "<bound method Series.iteritems of tag\n",
      "c#            394451\n",
      "c_cpp         281300\n",
      "java          383456\n",
      "javascript    375867\n",
      "php           321752\n",
      "python        208607\n",
      "r              36359\n",
      "ruby           99930\n",
      "swift          34809\n",
      "vb             35044\n",
      "Name: post_id, dtype: int64>\n"
     ]
    }
   ],
   "source": [
    "print(counts_by_tag.items)"
   ]
  },
  {
   "cell_type": "markdown",
   "metadata": {},
   "source": [
    "### Data Structure maintained for each tag\n",
    "- tag_post_ids — a list of post_ids with shape (counts_by_tag[tag],). It will be needed to show the title and link to the thread;\n",
    "- tag_vectors — a matrix with shape (counts_by_tag[tag], embeddings_dim (100) ) where embeddings for each answer are stored."
   ]
  },
  {
   "cell_type": "code",
   "execution_count": 77,
   "metadata": {},
   "outputs": [
    {
     "name": "stdout",
     "output_type": "stream",
     "text": [
      "[ 0.0164733  -0.0361109  -0.00115856  0.0310805  -0.0185563   0.0281558\n",
      " -0.0159352   0.00664095 -0.00725065 -0.0210924   0.00820591  0.0191486\n",
      " -0.00609667 -0.0122575  -0.0278109  -0.0981103   0.00487486 -0.00328123\n",
      " -0.0487754  -0.0963432   0.0124041  -0.012632    0.00735068 -0.0660114\n",
      " -0.0637082  -0.0250055   0.0367987  -0.0319628   0.0223168  -0.00589141\n",
      " -0.00610673 -0.0631503   0.0840909   0.00898059  0.0354006   0.029524\n",
      " -0.04271     0.0154982  -0.0125562   0.0087481  -0.030185    0.0697643\n",
      " -0.091609    0.017696    0.0376007   0.0537015   0.0448754  -0.0405891\n",
      " -0.00426119 -0.0879259  -0.0594563  -0.120163    0.00023353  0.00200339\n",
      "  0.00507103 -0.032078    0.06827    -0.0411659  -0.019957    0.0091475\n",
      " -0.0143089  -0.00337774 -0.00582512 -0.06628    -0.0660085  -0.0678917\n",
      " -0.00311377 -0.0475585   0.0656223   0.0188918  -0.0702528   0.0592485\n",
      " -0.0769118  -0.0645789   0.113124   -0.0230251   0.0508459  -0.0825417\n",
      "  0.00981109  0.0346618  -0.0324306  -0.0176928   0.0382613  -0.0475889\n",
      "  0.0263251  -0.0342175   0.0184054  -0.0270341  -0.042055   -0.00798404\n",
      " -0.00055004 -0.0214788  -0.0145478  -0.0535917   0.0303573  -0.0204494\n",
      "  0.0649675  -0.0278766   0.0234471   0.119867  ]\n"
     ]
    }
   ],
   "source": [
    "print(starspace_embeddings['c#'])\n",
    "starspace_embeddings['c_cpp'] = list(starspace_embeddings['c++'])"
   ]
  },
  {
   "cell_type": "code",
   "execution_count": 78,
   "metadata": {},
   "outputs": [
    {
     "name": "stdout",
     "output_type": "stream",
     "text": [
      "[ 0.0164733  -0.0361109  -0.00115856  0.0310805  -0.0185563   0.0281558\n",
      " -0.0159352   0.00664095 -0.00725065 -0.0210924   0.00820591  0.0191486\n",
      " -0.00609667 -0.0122575  -0.0278109  -0.0981103   0.00487486 -0.00328123\n",
      " -0.0487754  -0.0963432   0.0124041  -0.012632    0.00735068 -0.0660114\n",
      " -0.0637082  -0.0250055   0.0367987  -0.0319628   0.0223168  -0.00589141\n",
      " -0.00610673 -0.0631503   0.0840909   0.00898059  0.0354006   0.029524\n",
      " -0.04271     0.0154982  -0.0125562   0.0087481  -0.030185    0.0697643\n",
      " -0.091609    0.017696    0.0376007   0.0537015   0.0448754  -0.0405891\n",
      " -0.00426119 -0.0879259  -0.0594563  -0.120163    0.00023353  0.00200339\n",
      "  0.00507103 -0.032078    0.06827    -0.0411659  -0.019957    0.0091475\n",
      " -0.0143089  -0.00337774 -0.00582512 -0.06628    -0.0660085  -0.0678917\n",
      " -0.00311377 -0.0475585   0.0656223   0.0188918  -0.0702528   0.0592485\n",
      " -0.0769118  -0.0645789   0.113124   -0.0230251   0.0508459  -0.0825417\n",
      "  0.00981109  0.0346618  -0.0324306  -0.0176928   0.0382613  -0.0475889\n",
      "  0.0263251  -0.0342175   0.0184054  -0.0270341  -0.042055   -0.00798404\n",
      " -0.00055004 -0.0214788  -0.0145478  -0.0535917   0.0303573  -0.0204494\n",
      "  0.0649675  -0.0278766   0.0234471   0.119867  ]\n"
     ]
    }
   ],
   "source": [
    "print(starspace_embeddings['c#'])\n",
    "starspace_embeddings['c_cpp'] = list(starspace_embeddings['c++'])"
   ]
  },
  {
   "cell_type": "code",
   "execution_count": 79,
   "metadata": {},
   "outputs": [],
   "source": [
    "import os\n",
    "os.makedirs(RESOURCE_PATH['THREAD_EMBEDDINGS_FOLDER'], exist_ok=True)\n",
    "embeddings_dim = 100\n",
    "for tag, count in counts_by_tag.items():\n",
    "    tag_posts = posts_df[posts_df['tag'] == tag]\n",
    "    \n",
    "    tag_post_ids = tag_posts['post_id']\n",
    "    \n",
    "    tag_vectors = np.zeros((count, embeddings_dim), dtype=np.float32)\n",
    "    for i, title in enumerate(tag_posts['title']):\n",
    "        tag_vectors[i, :] = question_to_vec(title, starspace_embeddings, embeddings_dim)\n",
    "        \n",
    "    # Dump post ids and vectors to a file.\n",
    "    filename = os.path.join(RESOURCE_PATH['THREAD_EMBEDDINGS_FOLDER'], os.path.normpath('%s.pkl' % tag))\n",
    "    pickle.dump((tag_post_ids, tag_vectors), open(filename, 'wb'))"
   ]
  },
  {
   "cell_type": "markdown",
   "metadata": {},
   "source": [
    "### Dialog Manager"
   ]
  },
  {
   "cell_type": "code",
   "execution_count": 80,
   "metadata": {},
   "outputs": [],
   "source": [
    "from dialogue_manager import DialogueManager\n",
    "from utils import *"
   ]
  },
  {
   "cell_type": "code",
   "execution_count": 81,
   "metadata": {},
   "outputs": [
    {
     "name": "stdout",
     "output_type": "stream",
     "text": [
      "Loading resources...\n",
      "Training ai.yml: [####################] 100%\n",
      "Training botprofile.yml: [####################] 100%\n",
      "Training computers.yml: [####################] 100%\n",
      "Training conversations.yml: [####################] 100%\n",
      "Training emotion.yml: [####################] 100%\n",
      "Training food.yml: [####################] 100%\n",
      "Training gossip.yml: [####################] 100%\n",
      "Training greetings.yml: [####################] 100%\n",
      "Training health.yml: [####################] 100%\n",
      "Training history.yml: [####################] 100%\n",
      "Training humor.yml: [####################] 100%\n",
      "Training literature.yml: [####################] 100%\n",
      "Training money.yml: [####################] 100%\n",
      "Training movies.yml: [####################] 100%\n",
      "Training politics.yml: [####################] 100%\n",
      "Training psychology.yml: [####################] 100%\n",
      "Training science.yml: [####################] 100%\n",
      "Training sports.yml: [####################] 100%\n",
      "Training trivia.yml: [####################] 100%\n"
     ]
    }
   ],
   "source": [
    "dialogue_manager = DialogueManager(paths=RESOURCE_PATH)"
   ]
  },
  {
   "cell_type": "code",
   "execution_count": 82,
   "metadata": {},
   "outputs": [
    {
     "name": "stdout",
     "output_type": "stream",
     "text": [
      "thread_embeddings_by_tags java\n",
      "thread_embeddings_by_tags/java.pkl\n",
      "(100,) (383456, 100)\n",
      "[35138]\n",
      "(383456,)\n",
      "['35138', '3614812']\n",
      "35138 3614812\n",
      "https://stackoverflow.com/questions/3614812\n"
     ]
    }
   ],
   "source": [
    "print(dialogue_manager.generate_answer('c++ vs java'))"
   ]
  },
  {
   "cell_type": "code",
   "execution_count": null,
   "metadata": {},
   "outputs": [],
   "source": []
  }
 ],
 "metadata": {
  "kernelspec": {
   "display_name": "Python 3",
   "language": "python",
   "name": "python3"
  },
  "language_info": {
   "codemirror_mode": {
    "name": "ipython",
    "version": 3
   },
   "file_extension": ".py",
   "mimetype": "text/x-python",
   "name": "python",
   "nbconvert_exporter": "python",
   "pygments_lexer": "ipython3",
   "version": "3.6.9"
  }
 },
 "nbformat": 4,
 "nbformat_minor": 2
}
